{
 "cells": [
  {
   "cell_type": "markdown",
   "id": "24d5bae7",
   "metadata": {},
   "source": [
    "## 0. Importation des bibliothèques"
   ]
  },
  {
   "cell_type": "code",
   "execution_count": null,
   "id": "b10289e0",
   "metadata": {},
   "outputs": [],
   "source": [
    "from transformers import AutoTokenizer, AutoModelForCausalLM, Trainer, TrainingArguments, BitsAndBytesConfig\n",
    "from datasets import load_dataset\n",
    "from peft import prepare_model_for_kbit_training, LoraConfig, get_peft_model\n",
    "import matplotlib.pyplot as plt\n",
    "import torch\n",
    "import os"
   ]
  },
  {
   "cell_type": "markdown",
   "id": "34391eed",
   "metadata": {},
   "source": [
    "## 1. Vérification de l'environnement"
   ]
  },
  {
   "cell_type": "code",
   "execution_count": null,
   "id": "6ffcf283",
   "metadata": {},
   "outputs": [],
   "source": [
    "assert torch.__version__ >= '2.1.0', \"Requires PyTorch 2.1.0+ (recommend 2.3.0)\"\n",
    "assert torch.cuda.is_available(), \"No GPU detected!\"\n",
    "device = torch.device(\"cuda\")\n",
    "print(f\"Using device: {device} | PyTorch: {torch.__version__} | CUDA: {torch.version.cuda}\")"
   ]
  },
  {
   "cell_type": "markdown",
   "id": "b51efb49",
   "metadata": {},
   "source": [
    "## 2. Chargement du modèle et du Tokenizer"
   ]
  },
  {
   "cell_type": "code",
   "execution_count": null,
   "id": "35a8edeb",
   "metadata": {},
   "outputs": [],
   "source": [
    "#  Chargement du modèle et du Tokenizer ===\n",
    "model_path = r\".\\Phi-4-mini\"                                                    # Chemin vers le modèle phi4-mini instruct de Huggingface\n",
    "tokenizer = AutoTokenizer.from_pretrained(model_path,trust_remote_code =True)\n",
    "tokenizer.pad_token = tokenizer.eos_token\n",
    "tokenizer.padding_side = \"right\""
   ]
  },
  {
   "cell_type": "code",
   "execution_count": null,
   "id": "2d8d52ce",
   "metadata": {},
   "outputs": [],
   "source": [
    "# Configuration explicite pour GPU et cpu\n",
    "bnb_config = BitsAndBytesConfig(\n",
    "    load_in_4bit=True,\n",
    "    bnb_4bit_quant_type=\"nf4\",  # nf4 obligatoire si offload CPU\n",
    "    bnb_4bit_use_double_quant=True,\n",
    "    bnb_4bit_compute_dtype=torch.float16,\n",
    "    llm_int8_enable_fp32_cpu_offload=True  # Activation de l'offload CPU\n",
    ")"
   ]
  },
  {
   "cell_type": "code",
   "execution_count": null,
   "id": "a6b0a032",
   "metadata": {},
   "outputs": [],
   "source": [
    "model = AutoModelForCausalLM.from_pretrained(\n",
    "    model_path,\n",
    "    quantization_config=bnb_config,  # Quantification automatiquement gérée par bitsandbytes sur GPU\n",
    "    device_map={\n",
    "        \"\": \"cuda:0\",  # Charge les couches principales sur GPU 0\n",
    "        \"lm_head\": \"cpu\",  # Offload certaines couches sur CPU\n",
    "        \"embed_tokens\": \"cpu\",\n",
    "        \"layernorm\": \"cpu\",\n",
    "        \"model.embed_tokens\": \"cpu\",\n",
    "        \"model.final_layernorm\": \"cpu\"\n",
    "    }, \n",
    "    torch_dtype=torch.float16,\n",
    "    trust_remote_code = True\n",
    ")"
   ]
  },
  {
   "cell_type": "markdown",
   "id": "dd493621",
   "metadata": {},
   "source": [
    "## 3. Préparation PEFT"
   ]
  },
  {
   "cell_type": "code",
   "execution_count": null,
   "id": "86b59afe",
   "metadata": {},
   "outputs": [],
   "source": [
    "\n",
    "model = prepare_model_for_kbit_training(model)"
   ]
  },
  {
   "cell_type": "markdown",
   "id": "8bc298fa",
   "metadata": {},
   "source": [
    "## 4. Configuration LoRA"
   ]
  },
  {
   "cell_type": "code",
   "execution_count": null,
   "id": "f8b6c15d",
   "metadata": {},
   "outputs": [],
   "source": [
    "lora_config = LoraConfig(\n",
    "    r=16,\n",
    "    lora_alpha=32,\n",
    "    target_modules=[\n",
    "        \"qkv_proj\",  # Projection combinée query/key/value\n",
    "        \"o_proj\",    # Projection de sortie de l'attention\n",
    "        \"gate_up_proj\",  # Projection combinée gate/up du MLP\n",
    "        \"down_proj\"   # Projection down du MLP\n",
    "    ],\n",
    "    lora_dropout=0.05,\n",
    "    bias=\"none\",\n",
    "    task_type=\"CAUSAL_LM\"\n",
    ")\n",
    "model = get_peft_model(model, lora_config)  # Forçage GPU"
   ]
  },
  {
   "cell_type": "markdown",
   "id": "7a227bbc",
   "metadata": {},
   "source": [
    "## 5. Chargement et prépartion des données"
   ]
  },
  {
   "cell_type": "code",
   "execution_count": null,
   "id": "0960a17b",
   "metadata": {},
   "outputs": [],
   "source": [
    "dataset = load_dataset(\"json\", data_files=r\"phi_train_clean.jsonl\", split='train')\n",
    "\n",
    "def format_example(example):\n",
    "    # exemple simple, ok en mode non batched\n",
    "    text = f\"### Instruction:\\n{example['instruction']}\\n\\n### Input:\\n{example['input']}\\n\\n### Response:\\n{example['output']}\"\n",
    "    return {\"text\": text}\n",
    "\n",
    "def tokenize_function(examples):\n",
    "    tokenized = tokenizer(\n",
    "        examples[\"text\"],   # liste de textes (batched=True)\n",
    "        max_length=1024,\n",
    "        padding=\"max_length\",\n",
    "        truncation=True,\n",
    "        return_tensors=None\n",
    "    )\n",
    "    tokenized[\"labels\"] = [list(ids) for ids in tokenized[\"input_ids\"]]  # copie labels\n",
    "    return tokenized\n",
    "\n",
    "\n",
    "# Application des transformations\n",
    "dataset = dataset.map(format_example)\n",
    "tokenized_dataset = dataset.map(tokenize_function, batched=True, remove_columns=[\"instruction\", \"input\", \"output\", \"text\"])"
   ]
  },
  {
   "cell_type": "markdown",
   "id": "20a23393",
   "metadata": {},
   "source": [
    "## 6. Configuration Training"
   ]
  },
  {
   "cell_type": "code",
   "execution_count": null,
   "id": "749c6d03",
   "metadata": {},
   "outputs": [],
   "source": [
    "output_dir = r\".\\phi4_finetunned\" \n",
    "\n",
    "training_args = TrainingArguments(\n",
    "    output_dir=output_dir,\n",
    "    per_device_train_batch_size=1,  # Taille réduite pour éviter OOM\n",
    "    gradient_accumulation_steps=8,\n",
    "    warmup_steps=100,\n",
    "    num_train_epochs=3,\n",
    "    learning_rate=2e-4,\n",
    "    fp16=True,  # Activation float16 pour GPU\n",
    "    logging_steps=10,\n",
    "    save_steps=50,\n",
    "    save_total_limit=2,\n",
    "    report_to=\"none\",\n",
    "    optim=\"adamw_torch\",  # Optimiseur compatible GPU\n",
    "    dataloader_pin_memory=True,  # Accélération GPU\n",
    "    save_strategy=\"epoch\",\n",
    "    remove_unused_columns=False  # ESSENTIEL: Garde les labels   \n",
    "   )"
   ]
  },
  {
   "cell_type": "markdown",
   "id": "d501f7bd",
   "metadata": {},
   "source": [
    "## 7. Configuration du trainer et lancement de l'application"
   ]
  },
  {
   "cell_type": "code",
   "execution_count": null,
   "id": "0a470704",
   "metadata": {},
   "outputs": [],
   "source": [
    "#  Trainer \n",
    "trainer = Trainer(\n",
    "    model=model,\n",
    "    train_dataset=tokenized_dataset,\n",
    "    args=training_args,\n",
    "    tokenizer=tokenizer,\n",
    ")"
   ]
  },
  {
   "cell_type": "code",
   "execution_count": null,
   "id": "af865c2f",
   "metadata": {},
   "outputs": [],
   "source": [
    "# Lancement\n",
    "trainer.train()"
   ]
  },
  {
   "cell_type": "markdown",
   "id": "946c10dc",
   "metadata": {},
   "source": [
    "## 8. Récupération des logs et tracé de la loss"
   ]
  },
  {
   "cell_type": "code",
   "execution_count": null,
   "id": "1c25c381",
   "metadata": {},
   "outputs": [],
   "source": [
    "# trainer.state.log_history contient les entrées de logging (dicts)\n",
    "steps = []\n",
    "losses = []\n",
    "for entry in trainer.state.log_history:\n",
    "    # certains entrées n'ont que 'loss' sans 'step' (ex: at end of epoch) ; on filtre\n",
    "    if \"loss\" in entry and \"step\" in entry:\n",
    "        steps.append(entry[\"step\"])\n",
    "        losses.append(entry[\"loss\"])\n",
    "\n",
    "if len(steps) > 0:\n",
    "    plt.figure(figsize=(8,4))\n",
    "    plt.plot(steps, losses, color='royalblue', marker='o', label='Loss')\n",
    "    plt.xlabel(\"Step\")\n",
    "    plt.ylabel(\"Loss\")\n",
    "    plt.title(\"📉 Courbe de perte pendant le fine-tuning\")\n",
    "    plt.grid(True)\n",
    "    plt.legend()\n",
    "    plt.tight_layout()\n",
    "    plt.show()\n",
    "else:\n",
    "    print(\"Aucun point de loss avec step disponible dans trainer.state.log_history. Voici le log_history brut :\")\n",
    "    print(trainer.state.log_history)"
   ]
  },
  {
   "cell_type": "markdown",
   "id": "7f163907",
   "metadata": {},
   "source": [
    "## 9. Sauvegarde du modèle"
   ]
  },
  {
   "cell_type": "code",
   "execution_count": null,
   "id": "22e7bc58",
   "metadata": {},
   "outputs": [
    {
     "name": "stderr",
     "output_type": "stream",
     "text": [
      "d:\\utilisateur\\elong\\python_2\\envs\\circb_env\\lib\\site-packages\\tqdm\\auto.py:21: TqdmWarning: IProgress not found. Please update jupyter and ipywidgets. See https://ipywidgets.readthedocs.io/en/stable/user_install.html\n",
      "  from .autonotebook import tqdm as notebook_tqdm\n"
     ]
    },
    {
     "name": "stdout",
     "output_type": "stream",
     "text": [
      "Using device: cuda | PyTorch: 2.3.0+cu121 | CUDA: 12.1\n"
     ]
    },
    {
     "name": "stderr",
     "output_type": "stream",
     "text": [
      "Loading checkpoint shards: 100%|██████████| 2/2 [01:06<00:00, 33.13s/it]\n",
      "Some parameters are on the meta device because they were offloaded to the cpu.\n",
      "C:\\Users\\elong\\AppData\\Local\\Temp\\ipykernel_18188\\591876441.py:110: FutureWarning: `tokenizer` is deprecated and will be removed in version 5.0.0 for `Trainer.__init__`. Use `processing_class` instead.\n",
      "  trainer = Trainer(\n",
      "No label_names provided for model class `PeftModelForCausalLM`. Since `PeftModel` hides base models input arguments, if label_names is not given, label_names can't be set automatically within `Trainer`. Note that empty label_names list will be used instead.\n",
      "`use_cache=True` is incompatible with gradient checkpointing. Setting `use_cache=False`.\n",
      "d:\\utilisateur\\elong\\python_2\\envs\\circb_env\\lib\\site-packages\\torch\\utils\\checkpoint.py:464: UserWarning: torch.utils.checkpoint: the use_reentrant parameter should be passed explicitly. In version 2.4 we will raise an exception if use_reentrant is not passed. use_reentrant=False is recommended, but if you need to preserve the current default behavior, you can pass use_reentrant=True. Refer to docs for more details on the differences between the two variants.\n",
      "  warnings.warn(\n",
      "d:\\utilisateur\\elong\\python_2\\envs\\circb_env\\lib\\site-packages\\transformers\\integrations\\sdpa_attention.py:66: UserWarning: 1Torch was not compiled with flash attention. (Triggered internally at ..\\aten\\src\\ATen\\native\\transformers\\cuda\\sdp_utils.cpp:455.)\n",
      "  attn_output = torch.nn.functional.scaled_dot_product_attention(\n"
     ]
    },
    {
     "data": {
      "text/html": [
       "\n",
       "    <div>\n",
       "      \n",
       "      <progress value='100' max='1065' style='width:300px; height:20px; vertical-align: middle;'></progress>\n",
       "      [ 100/1065 17:44:46 < 174:44:48, 0.00 it/s, Epoch 0.28/3]\n",
       "    </div>\n",
       "    <table border=\"1\" class=\"dataframe\">\n",
       "  <thead>\n",
       " <tr style=\"text-align: left;\">\n",
       "      <th>Step</th>\n",
       "      <th>Training Loss</th>\n",
       "    </tr>\n",
       "  </thead>\n",
       "  <tbody>\n",
       "    <tr>\n",
       "      <td>10</td>\n",
       "      <td>2.411700</td>\n",
       "    </tr>\n",
       "    <tr>\n",
       "      <td>20</td>\n",
       "      <td>2.208600</td>\n",
       "    </tr>\n",
       "    <tr>\n",
       "      <td>30</td>\n",
       "      <td>1.834700</td>\n",
       "    </tr>\n",
       "    <tr>\n",
       "      <td>40</td>\n",
       "      <td>1.427000</td>\n",
       "    </tr>\n",
       "    <tr>\n",
       "      <td>50</td>\n",
       "      <td>0.940800</td>\n",
       "    </tr>\n",
       "    <tr>\n",
       "      <td>60</td>\n",
       "      <td>0.731500</td>\n",
       "    </tr>\n",
       "    <tr>\n",
       "      <td>70</td>\n",
       "      <td>0.567900</td>\n",
       "    </tr>\n",
       "    <tr>\n",
       "      <td>80</td>\n",
       "      <td>0.531500</td>\n",
       "    </tr>\n",
       "    <tr>\n",
       "      <td>90</td>\n",
       "      <td>0.447700</td>\n",
       "    </tr>\n",
       "  </tbody>\n",
       "</table><p>"
      ],
      "text/plain": [
       "<IPython.core.display.HTML object>"
      ]
     },
     "metadata": {},
     "output_type": "display_data"
    }
   ],
   "source": [
    "trainer.save_model(output_dir)  \n",
    "print(f\"Training completed! Saved to {output_dir}\")"
   ]
  }
 ],
 "metadata": {
  "kernelspec": {
   "display_name": "circb_env",
   "language": "python",
   "name": "python3"
  },
  "language_info": {
   "codemirror_mode": {
    "name": "ipython",
    "version": 3
   },
   "file_extension": ".py",
   "mimetype": "text/x-python",
   "name": "python",
   "nbconvert_exporter": "python",
   "pygments_lexer": "ipython3",
   "version": "3.10.18"
  }
 },
 "nbformat": 4,
 "nbformat_minor": 5
}
